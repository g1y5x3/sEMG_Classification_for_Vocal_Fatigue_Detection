{
 "cells": [
  {
   "cell_type": "code",
   "execution_count": 1,
   "id": "d7e2ea72",
   "metadata": {},
   "outputs": [],
   "source": [
    "import scipy.io as sio\n",
    "import numpy as np\n",
    "import matplotlib.pyplot as plt\n",
    "import matplotlib as mpl\n",
    "import pandas as pd\n",
    "\n",
    "from tsai.all import *"
   ]
  },
  {
   "cell_type": "code",
   "execution_count": 2,
   "id": "292feded",
   "metadata": {},
   "outputs": [
    {
     "name": "stdout",
     "output_type": "stream",
     "text": [
      "os             : Linux-4.15.0-180-generic-x86_64-with-debian-buster-sid\n",
      "python         : 3.7.12\n",
      "tsai           : 0.3.1\n",
      "fastai         : 2.6.3\n",
      "fastcore       : 1.4.3\n",
      "torch          : 1.11.0+cu102\n",
      "device         : 1 gpu (['NVIDIA GeForce RTX 2060'])\n",
      "cpu cores      : 12\n",
      "RAM            : 62.85 GB\n",
      "GPU memory     : [5.79] GB\n"
     ]
    }
   ],
   "source": [
    "computer_setup()"
   ]
  },
  {
   "cell_type": "markdown",
   "id": "a8fcd525",
   "metadata": {},
   "source": [
    "## Load Raw Data"
   ]
  },
  {
   "cell_type": "code",
   "execution_count": 3,
   "id": "8cfeffe9",
   "metadata": {},
   "outputs": [],
   "source": [
    "DATA_ALL = sio.loadmat(\"subjects_88_v2.mat\")\n",
    "VFI_LIST = sio.loadmat(\"Notes/VFI_new_matched.mat\")\n",
    "\n",
    "VFI_1       = np.ravel(VFI_LIST['VFI1'])\n",
    "VFI_2       = np.ravel(VFI_LIST['VFI2'])\n",
    "SIG         = DATA_ALL['DATA']              # raw sEMG signals\n",
    "FEAT        = DATA_ALL['FEAT']              # Orignally calculated features\n",
    "FEAT_N      = DATA_ALL['FEAT_N']            # Normalized features\n",
    "LABEL       = DATA_ALL['LABEL']             # Labels\n",
    "SUBJECT_ID  = DATA_ALL['SUBJECT_ID']        # Sujbect ID\n",
    "LABEL_VOWEL = DATA_ALL['LABEL_VOWEL']\n",
    "VFI         = DATA_ALL['SUBJECT_VFI']"
   ]
  },
  {
   "cell_type": "code",
   "execution_count": null,
   "id": "9ce0dae1",
   "metadata": {},
   "outputs": [],
   "source": []
  }
 ],
 "metadata": {
  "kernelspec": {
   "display_name": "tsai",
   "language": "python",
   "name": "tsai"
  },
  "language_info": {
   "codemirror_mode": {
    "name": "ipython",
    "version": 3
   },
   "file_extension": ".py",
   "mimetype": "text/x-python",
   "name": "python",
   "nbconvert_exporter": "python",
   "pygments_lexer": "ipython3",
   "version": "3.7.12"
  }
 },
 "nbformat": 4,
 "nbformat_minor": 5
}
