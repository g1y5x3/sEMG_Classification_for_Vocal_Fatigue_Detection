{
 "cells": [
  {
   "cell_type": "code",
   "execution_count": 1,
   "metadata": {},
   "outputs": [],
   "source": [
    "import scipy.io as sio\n",
    "import numpy as np\n",
    "import matplotlib.pyplot as plt\n",
    "import matplotlib as mpl\n",
    "import pandas as pd\n",
    "\n",
    "from sklearn.cluster import KMeans\n",
    "from sklearn.metrics.cluster import adjusted_rand_score"
   ]
  },
  {
   "cell_type": "code",
   "execution_count": 2,
   "metadata": {},
   "outputs": [],
   "source": [
    "DATA_ALL = sio.loadmat(\"subjects_40_v5.mat\")\n",
    "\n",
    "SIG    = DATA_ALL['DATA']              # raw sEMG signals\n",
    "FEAT   = DATA_ALL['FEAT']              # Orignally calculated features\n",
    "FEAT_N = DATA_ALL['FEAT_N']            # Normalized features\n",
    "LABEL  = DATA_ALL['LABEL']             # Labels\n",
    "SUBJECT_ID = DATA_ALL['SUBJECT_ID']    # Sujbect ID\n",
    "LABEL_VOWEL = DATA_ALL['LABEL_VOWEL']\n",
    "VOWEL_REP   = DATA_ALL['VOWEL_REP']\n",
    "VFI         = DATA_ALL['SUBJECT_VFI']"
   ]
  },
  {
   "cell_type": "code",
   "execution_count": 3,
   "metadata": {
    "scrolled": true
   },
   "outputs": [
    {
     "name": "stdout",
     "output_type": "stream",
     "text": [
      "dict_keys(['__header__', '__version__', '__globals__', 'DATA', 'FEAT', 'FEAT_LABEl', 'FEAT_N', 'I', 'LABEL', 'LABEL_VOWEL', 'SUBJECT_ID', 'SUBJECT_VFI', 'VOWEL_REP'])\n",
      "[[array(['ZC_Ch1'], dtype='<U6') array(['ZC_Ch2'], dtype='<U6')\n",
      "  array(['ZC_Ch3'], dtype='<U6') array(['ZC_Ch4'], dtype='<U6')]]\n"
     ]
    }
   ],
   "source": [
    "print(DATA_ALL.keys())\n",
    "print(DATA_ALL['FEAT_LABEl'][:,[1,13,25,37]])"
   ]
  },
  {
   "cell_type": "code",
   "execution_count": 4,
   "metadata": {},
   "outputs": [
    {
     "name": "stdout",
     "output_type": "stream",
     "text": [
      "Total # of samples: 6472\n"
     ]
    }
   ],
   "source": [
    "# Combine all features into one single numpy array\n",
    "features_all = np.zeros((0,48))\n",
    "labels_all   = np.zeros((0,1))\n",
    "subject_id   = np.zeros((0,1))\n",
    "labels_vowel = np.zeros((0,1))\n",
    "vowels_rep   = np.zeros((0,1))\n",
    "subject_vfi  = np.zeros((0,1))\n",
    "\n",
    "# subject_\n",
    "\n",
    "for i_sub in range(40):\n",
    "    features_all = np.append(features_all, FEAT_N[i_sub,0], axis=0)\n",
    "    labels_all   = np.append(labels_all, LABEL[i_sub,0]   , axis=0)\n",
    "    subject_id   = np.append(subject_id, SUBJECT_ID[i_sub,0], axis=0)\n",
    "    labels_vowel = np.append(labels_vowel, LABEL_VOWEL[i_sub,0], axis=0)\n",
    "    vowels_rep   = np.append(vowels_rep, VOWEL_REP[i_sub,0], axis=0)\n",
    "    subject_vfi  = np.append(subject_vfi, VFI[i_sub,0], axis=0)\n",
    "    \n",
    "num_data = np.size(features_all,0)\n",
    "labels_indices = np.arange(num_data)\n",
    "print('Total # of samples: %d'%num_data)"
   ]
  },
  {
   "cell_type": "code",
   "execution_count": null,
   "metadata": {},
   "outputs": [],
   "source": [
    "# print(np.shape(features_all))\n",
    "\n",
    "# features_freq = features_all[:,[1,13,25,37]]\n",
    "# print(np.shape(features_freq))"
   ]
  },
  {
   "cell_type": "code",
   "execution_count": null,
   "metadata": {},
   "outputs": [],
   "source": [
    "# Re-order Mark's label to be in the same sample sequences as the rest\n",
    "notes_mark = pd.read_excel('Notes/acoustic_classifier_table.xls')\n",
    "\n",
    "counter = 1\n",
    "labels_Mark = []\n",
    "for i in range(num_data):\n",
    "    sid  = subject_id[i][0]\n",
    "    vow  = labels_vowel[i][0]\n",
    "    vrep = vowels_rep[i][0]\n",
    "\n",
    "    if vow == 1:\n",
    "        v = 'a'\n",
    "    elif vow == 2:\n",
    "        v = 'u'\n",
    "    elif vow == 3:\n",
    "        v = 'i'\n",
    "\n",
    "    filename = 'R%03d_'%sid + v +'_%02d.wav'%vrep\n",
    "    sample_id = notes_mark[notes_mark['Filename'] == filename]\n",
    "    \n",
    "    if sample_id.size == 0:\n",
    "        filename = 'R%03dS1_'%sid + v +'_%02d.wav'%vrep\n",
    "        sample_id = notes_mark[notes_mark['Filename'] == filename]\n",
    "    \n",
    "    if sample_id.size == 0:\n",
    "        filename = 'R%03dS2_'%sid + v +'_%02d.wav'%vrep\n",
    "        sample_id = notes_mark[notes_mark['Filename'] == filename]\n",
    "        \n",
    "    if np.isnan(sample_id['idx'].values):\n",
    "        print(counter)\n",
    "        print(filename)        \n",
    "        \n",
    "    labels_Mark = np.append(labels_Mark, sample_id['idx'].values, axis=0)\n",
    "    counter = counter + 1\n",
    "        \n",
    "labels_Mark = labels_Mark.astype(int)        \n"
   ]
  },
  {
   "cell_type": "markdown",
   "metadata": {},
   "source": [
    "## Three Clusters"
   ]
  },
  {
   "cell_type": "code",
   "execution_count": null,
   "metadata": {
    "scrolled": true
   },
   "outputs": [],
   "source": [
    "num_cluster = 3\n",
    "\n",
    "X = features_freq\n",
    "\n",
    "random_state = None\n",
    "Y_pred = KMeans(n_clusters=num_cluster, random_state=random_state).fit_predict(X)\n",
    "Y_pred = KMeans(n_clusters=num_cluster, \n",
    "                random_state=random_state,\n",
    "                verbose=1).fit_predict(X)"
   ]
  },
  {
   "cell_type": "code",
   "execution_count": null,
   "metadata": {},
   "outputs": [],
   "source": [
    "for i in range(num_cluster):\n",
    "    idx = (Y_pred == i)\n",
    "    print('K-Mean Cluster %d' % i)\n",
    "    print('Percentage: %.2f%%' % (100 * sum(idx)/np.size(Y_pred)))\n",
    "    print('# of Samples: %d' % sum(idx))\n",
    "    print('# of  /a/: %.2f%%' % (100 * sum(np.ravel(labels_vowel[idx] == 1))/sum(idx)))\n",
    "    print('# of  /u/: %.2f%%' % (100 * sum(np.ravel(labels_vowel[idx] == 2))/sum(idx)))\n",
    "    print('# of  /i/: %.2f%%' % (100 * sum(np.ravel(labels_vowel[idx] == 3))/sum(idx)))\n",
    "\n",
    "    print('# of label 1 from Mark: %.2f%%' % (100 * sum(labels_Mark[idx] == 1)/sum(idx)))\n",
    "    print('# of label 2 from Mark: %.2f%%' % (100 * sum(labels_Mark[idx] == 2)/sum(idx)))\n",
    "    print('# of label 3 from Mark: %.2f%%' % (100 * sum(labels_Mark[idx] == 3)/sum(idx)))\n",
    "\n",
    "    print('Positive Samples: %.2f%% ' % (100 * sum(np.ravel(labels_all[idx] == 1))/sum(idx)))\n",
    "    print('Negative Samples: %.2f%% ' % (100 * sum(np.ravel(labels_all[idx] == -1))/sum(idx)))\n",
    "    \n",
    "    print('Average VFI: %.2f ' % (np.mean(np.ravel(subject_vfi[idx]))))\n",
    "    \n",
    "    print()\n"
   ]
  },
  {
   "cell_type": "markdown",
   "metadata": {},
   "source": [
    "## Plots\n"
   ]
  },
  {
   "cell_type": "code",
   "execution_count": null,
   "metadata": {},
   "outputs": [],
   "source": [
    "y_idx"
   ]
  },
  {
   "cell_type": "code",
   "execution_count": null,
   "metadata": {},
   "outputs": [],
   "source": [
    "# Plot the mean and standard deviation of each cluster\n",
    "x = np.array([1, 2, 3])\n",
    "labels =['Cluster 1', 'Cluster 2', 'Cluster 3']\n",
    "\n",
    "y = np.zeros((3))\n",
    "e = np.zeros((3))\n",
    "\n",
    "idx = (Y_pred == 0)\n",
    "y[0] = np.mean(np.ravel(subject_vfi[idx]))\n",
    "e[0] = np.std(np.ravel(subject_vfi[idx]))\n",
    "\n",
    "idx = (Y_pred == 1)\n",
    "y[1] = np.mean(np.ravel(subject_vfi[idx]))\n",
    "e[1] = np.std(np.ravel(subject_vfi[idx]))\n",
    "\n",
    "idx = (Y_pred == 2)\n",
    "y[2] = np.mean(np.ravel(subject_vfi[idx]))\n",
    "e[2] = np.std(np.ravel(subject_vfi[idx]))\n",
    "\n",
    "y_idx = np.argsort(y)\n",
    "\n",
    "plt.figure(figsize=(8,6))\n",
    "plt.errorbar(x, y[y_idx], e[y_idx], \n",
    "             linestyle='None', \n",
    "             marker='X', \n",
    "             ecolor=['#1f77b4','#ff7f0e','#d62728'],\n",
    "             elinewidth=2)\n",
    "\n",
    "plt.xticks(x, labels, rotation='vertical')\n",
    "plt.ylabel(\"VFI-1\")\n",
    "\n",
    "plt.show()"
   ]
  },
  {
   "cell_type": "code",
   "execution_count": null,
   "metadata": {},
   "outputs": [],
   "source": [
    "# Sort subjects based on their VFI-1\n",
    "# ONLY NEED TO BE RUN ONCE IN FACT\n",
    "subject_sort = np.zeros((40))\n",
    "vfi_sort     = np.zeros((40))\n",
    "for i in range(40):\n",
    "    subject_sort[i] = SUBJECT_ID[i,0][0]\n",
    "    vfi_sort[i]     = VFI[i,0][0]\n",
    "    \n",
    "sort_idx = np.argsort(vfi_sort)\n",
    "\n",
    "subject_sort = subject_sort[sort_idx]\n",
    "vfi_sort = vfi_sort[sort_idx]\n",
    "\n",
    "print(subject_sort)\n",
    "print(vfi_sort)"
   ]
  },
  {
   "cell_type": "code",
   "execution_count": null,
   "metadata": {},
   "outputs": [],
   "source": [
    "y[y_idx[2]]"
   ]
  },
  {
   "cell_type": "code",
   "execution_count": null,
   "metadata": {},
   "outputs": [],
   "source": [
    "%matplotlib inline\n",
    "# Plot the stacked bar graph based on the sorted subject list\n",
    "sample_count = np.zeros((40,3))\n",
    "\n",
    "labels = []\n",
    "for i in range(40):\n",
    "\n",
    "    sub = subject_sort[i]\n",
    "    vfi = vfi_sort[i]\n",
    "    labels.append('R%03d, VFI=%2d'%(sub, vfi))\n",
    "\n",
    "    for c in range(3):\n",
    "        idx_sub     = (subject_id == sub)\n",
    "        idx_cluster = (Y_pred == y_idx[c])\n",
    "\n",
    "        sample_count[i,c] = sum(np.ravel(idx_sub) & np.ravel(idx_cluster))\n",
    "\n",
    "# print(labels)\n",
    "# print(sample_count)  \n",
    "# idx = np.arrange(0,10)\n",
    "\n",
    "fig, ax = plt.subplots(figsize=(16,12))\n",
    "ax.bar(labels, sample_count[:,0], 0.25, label='Cluster 1', color='#1f77b4')\n",
    "ax.bar(labels, sample_count[:,1], 0.25, label='Cluster 2', color='#ff7f0e')\n",
    "ax.bar(labels, sample_count[:,2], 0.25, label='Cluster 3', color='#d62728')\n",
    "\n",
    "ax.set_ylabel('Sample Counts')\n",
    "ax.legend(loc='upper right')\n",
    "plt.xticks(rotation=90)\n",
    "plt.show()"
   ]
  },
  {
   "cell_type": "code",
   "execution_count": null,
   "metadata": {},
   "outputs": [],
   "source": [
    "fig, ax = plt.subplots(figsize=(16,12))\n",
    "ax.bar(labels[10:20], sample_count[10:20,0], 0.35, label='Cluster 1')\n",
    "ax.bar(labels[10:20], sample_count[10:20,1], 0.35, label='Cluster 2')\n",
    "ax.bar(labels[10:20], sample_count[10:20,2], 0.35, label='Cluster 3')\n",
    "\n",
    "ax.set_ylabel('Sample Counts')\n",
    "ax.legend(loc='upper right')\n",
    "\n",
    "plt.show()"
   ]
  },
  {
   "cell_type": "code",
   "execution_count": null,
   "metadata": {},
   "outputs": [],
   "source": [
    "fig, ax = plt.subplots(figsize=(16,12))\n",
    "ax.bar(labels[20:30], sample_count[20:30,0], 0.35, label='Cluster 1')\n",
    "ax.bar(labels[20:30], sample_count[20:30,1], 0.35, label='Cluster 2')\n",
    "ax.bar(labels[20:30], sample_count[20:30,2], 0.35, label='Cluster 3')\n",
    "\n",
    "ax.set_ylabel('Sample Counts')\n",
    "ax.legend(loc='upper right')\n",
    "\n",
    "plt.show()"
   ]
  },
  {
   "cell_type": "code",
   "execution_count": null,
   "metadata": {},
   "outputs": [],
   "source": [
    "fig, ax = plt.subplots(figsize=(16,12))\n",
    "ax.bar(labels[30:40], sample_count[30:40,0], 0.35, label='Cluster 1')\n",
    "ax.bar(labels[30:40], sample_count[30:40,1], 0.35, label='Cluster 2')\n",
    "ax.bar(labels[30:40], sample_count[30:40,2], 0.35, label='Cluster 3')\n",
    "\n",
    "ax.set_ylabel('Sample Counts')\n",
    "ax.legend(loc='upper right')\n",
    "\n",
    "plt.show()"
   ]
  },
  {
   "cell_type": "code",
   "execution_count": null,
   "metadata": {},
   "outputs": [],
   "source": [
    "for i in range(3):\n",
    "    idx = (labels_Mark == i+1)\n",
    "    print('Mark Cluster %d' % (i+1))\n",
    "    print('Percentage: %.2f%%' % (100 * sum(idx)/np.size(labels_Mark)))   \n",
    "    print('# of  /a/: %.2f%%' % (100 * sum(labels_vowel[idx] == 1)/sum(idx)))\n",
    "    print('# of  /u/: %.2f%%' % (100 * sum(labels_vowel[idx] == 2)/sum(idx)))\n",
    "    print('# of  /i/: %.2f%%' % (100 * sum(labels_vowel[idx] == 3)/sum(idx)))        \n",
    "    print('# of cluster 0 from K-Means: %.2f%%' % (100 * sum(Y_pred[idx] == 0)/sum(idx)))\n",
    "    print('# of cluster 1 from K-Means: %.2f%%' % (100 * sum(Y_pred[idx] == 1)/sum(idx)))\n",
    "    print('# of cluster 2 from K-Means: %.2f%%' % (100 * sum(Y_pred[idx] == 2)/sum(idx)))\n",
    "\n",
    "    print('Positive Samples: %.2f%% ' % (100 * sum(np.ravel(labels_all[idx] == 1))/sum(idx)))\n",
    "    print('Negative Samples: %.2f%% ' % (100 * sum(np.ravel(labels_all[idx] == -1))/sum(idx)))    \n",
    "    print('Average VFI: %.2f ' % (np.mean(np.ravel(subject_vfi[idx]))))    \n",
    "    \n",
    "    print()"
   ]
  },
  {
   "cell_type": "code",
   "execution_count": null,
   "metadata": {},
   "outputs": [],
   "source": [
    "from sklearn.metrics.cluster import adjusted_rand_score\n",
    "\n",
    "\n",
    "adjusted_rand_score(np.ravel(labels_vowel), labels_Mark)"
   ]
  },
  {
   "cell_type": "code",
   "execution_count": null,
   "metadata": {},
   "outputs": [],
   "source": [
    "np.shape(np.ravel(labels_vowel))"
   ]
  },
  {
   "cell_type": "markdown",
   "metadata": {},
   "source": [
    "## Four Clusters"
   ]
  },
  {
   "cell_type": "code",
   "execution_count": null,
   "metadata": {},
   "outputs": [],
   "source": [
    "num_cluster = 4\n",
    "\n",
    "X = features_all\n",
    "\n",
    "random_state = 170\n",
    "Y_pred = KMeans(n_clusters=num_cluster, random_state=random_state).fit_predict(X)"
   ]
  },
  {
   "cell_type": "code",
   "execution_count": null,
   "metadata": {},
   "outputs": [],
   "source": [
    "for i in range(num_cluster):\n",
    "    idx = (Y_pred == i)\n",
    "    print('Cluster %d' % i)\n",
    "    print('Percentage: %.2f%%' % (100 * sum(idx)/np.size(Y_pred)))\n",
    "    print('# of Samples: %d' % sum(idx))\n",
    "    print('# of  /a/: %d' % sum(np.ravel(labels_vowel[idx] == 1)))\n",
    "    print('# of  /u/: %d' % sum(np.ravel(labels_vowel[idx] == 2)))\n",
    "    print('# of  /i/: %d' % sum(np.ravel(labels_vowel[idx] == 3)))\n",
    "\n",
    "    print('# of label 1 from Mark: %d' % sum(labels_Mark[idx] == 1))\n",
    "    print('# of label 2 from Mark: %d' % sum(labels_Mark[idx] == 2))\n",
    "    print('# of label 3 from Mark: %d' % sum(labels_Mark[idx] == 3))\n",
    "\n",
    "    print('Positive Samples: %d ' % sum(np.ravel(labels_all[idx] == 1)))\n",
    "    print('Negative Samples: %d ' % sum(np.ravel(labels_all[idx] == -1)))\n",
    "    print()\n"
   ]
  },
  {
   "cell_type": "markdown",
   "metadata": {},
   "source": [
    "## Correlations with Acoustic Labels"
   ]
  },
  {
   "cell_type": "code",
   "execution_count": null,
   "metadata": {},
   "outputs": [],
   "source": [
    "x = [1, 1, 1, 2, 2, 2, 3, 3, 3]\n",
    "y = [3, 3, 3, 1, 1, 1, 2, 2, 2]\n",
    "np.corrcoef(x, y)"
   ]
  },
  {
   "cell_type": "code",
   "execution_count": null,
   "metadata": {},
   "outputs": [],
   "source": [
    "from sklearn.metrics.cluster import adjusted_rand_score\n",
    "\n",
    "adjusted_rand_score(labels_vowel, label_acoustic.astype('int32'))"
   ]
  },
  {
   "cell_type": "code",
   "execution_count": null,
   "metadata": {},
   "outputs": [],
   "source": [
    "subject_id"
   ]
  },
  {
   "cell_type": "code",
   "execution_count": null,
   "metadata": {},
   "outputs": [],
   "source": []
  }
 ],
 "metadata": {
  "kernelspec": {
   "display_name": "Python 3",
   "language": "python",
   "name": "python3"
  },
  "language_info": {
   "codemirror_mode": {
    "name": "ipython",
    "version": 3
   },
   "file_extension": ".py",
   "mimetype": "text/x-python",
   "name": "python",
   "nbconvert_exporter": "python",
   "pygments_lexer": "ipython3",
   "version": "3.6.13"
  }
 },
 "nbformat": 4,
 "nbformat_minor": 4
}
